{
  "nbformat": 4,
  "nbformat_minor": 0,
  "metadata": {
    "colab": {
      "provenance": []
    },
    "kernelspec": {
      "name": "python3",
      "display_name": "Python 3"
    },
    "language_info": {
      "name": "python"
    }
  },
  "cells": [
    {
      "cell_type": "code",
      "execution_count": null,
      "metadata": {
        "colab": {
          "base_uri": "https://localhost:8080/"
        },
        "id": "trzgzy_pyx_r",
        "outputId": "b996b635-b7d4-4bd2-a98c-19be27c115a7"
      },
      "outputs": [
        {
          "output_type": "stream",
          "name": "stderr",
          "text": [
            "[nltk_data] Downloading package wordnet to /root/nltk_data...\n",
            "[nltk_data]   Package wordnet is already up-to-date!\n",
            "[nltk_data] Downloading package omw-1.4 to /root/nltk_data...\n",
            "[nltk_data]   Package omw-1.4 is already up-to-date!\n",
            "[nltk_data] Downloading package punkt_tab to /root/nltk_data...\n",
            "[nltk_data]   Unzipping tokenizers/punkt_tab.zip.\n"
          ]
        },
        {
          "output_type": "execute_result",
          "data": {
            "text/plain": [
              "True"
            ]
          },
          "metadata": {},
          "execution_count": 3
        }
      ],
      "source": [
        "import nltk\n",
        "nltk.download('wordnet')\n",
        "nltk.download('omw-1.4')\n",
        "nltk.download('punkt_tab')"
      ]
    },
    {
      "cell_type": "code",
      "source": [
        "text=\"if studies studying are studied study\"\n",
        "tokenization=nltk.word_tokenize(text)\n"
      ],
      "metadata": {
        "id": "-WqTobMKy82A"
      },
      "execution_count": null,
      "outputs": []
    },
    {
      "cell_type": "code",
      "source": [
        "from nltk.stem import WordNetLemmatizer\n",
        "WNL=WordNetLemmatizer()\n",
        "for w in tokenization:\n",
        "  print(\"lemmatization for {} is {}\".format(w,WNL.lemmatize(w,pos=\"v\")))"
      ],
      "metadata": {
        "id": "6izr886YzDWr",
        "outputId": "b65a32e7-b54b-40b2-811f-683dbd619df5",
        "colab": {
          "base_uri": "https://localhost:8080/"
        }
      },
      "execution_count": null,
      "outputs": [
        {
          "output_type": "stream",
          "name": "stdout",
          "text": [
            "lemmatization for if is if\n",
            "lemmatization for studies is study\n",
            "lemmatization for studying is study\n",
            "lemmatization for are is be\n",
            "lemmatization for studied is study\n",
            "lemmatization for study is study\n"
          ]
        }
      ]
    },
    {
      "cell_type": "code",
      "source": [],
      "metadata": {
        "id": "z4mWbzcAzH9H"
      },
      "execution_count": null,
      "outputs": []
    }
  ]
}