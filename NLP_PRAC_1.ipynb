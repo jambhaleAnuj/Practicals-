{
  "nbformat": 4,
  "nbformat_minor": 0,
  "metadata": {
    "colab": {
      "provenance": []
    },
    "kernelspec": {
      "name": "python3",
      "display_name": "Python 3"
    },
    "language_info": {
      "name": "python"
    }
  },
  "cells": [
    {
      "cell_type": "code",
      "execution_count": null,
      "metadata": {
        "colab": {
          "base_uri": "https://localhost:8080/"
        },
        "id": "Tlj0sCMKFGCj",
        "outputId": "24bfeead-a5fc-433d-a0e2-cf16dcf3520c"
      },
      "outputs": [
        {
          "output_type": "stream",
          "name": "stderr",
          "text": [
            "[nltk_data] Downloading package punkt_tab to /root/nltk_data...\n",
            "[nltk_data]   Package punkt_tab is already up-to-date!\n"
          ]
        },
        {
          "output_type": "execute_result",
          "data": {
            "text/plain": [
              "True"
            ]
          },
          "metadata": {},
          "execution_count": 5
        }
      ],
      "source": [
        "import nltk\n",
        "nltk.download('punkt_tab')"
      ]
    },
    {
      "cell_type": "code",
      "source": [
        "from nltk.tokenize import sent_tokenize"
      ],
      "metadata": {
        "id": "sxfZnsEgHbnH"
      },
      "execution_count": null,
      "outputs": []
    },
    {
      "cell_type": "code",
      "source": [
        "\n",
        "text = 'Paragraphs are the building blocks of papers. Many students define paragraphs in terms of length: a paragraph is a group of at least five sentences, a paragraph is half a page long, etc. In reality, though, the unity and coherence of ideas among sentences is what constitutes a paragraph.'\n",
        "sent_tokenize(text)"
      ],
      "metadata": {
        "colab": {
          "base_uri": "https://localhost:8080/"
        },
        "id": "zfU5fdGpHhJt",
        "outputId": "510ab81b-edc3-4f4b-e444-cdbf66236409"
      },
      "execution_count": null,
      "outputs": [
        {
          "output_type": "execute_result",
          "data": {
            "text/plain": [
              "['Paragraphs are the building blocks of papers.',\n",
              " 'Many students define paragraphs in terms of length: a paragraph is a group of at least five sentences, a paragraph is half a page long, etc.',\n",
              " 'In reality, though, the unity and coherence of ideas among sentences is what constitutes a paragraph.']"
            ]
          },
          "metadata": {},
          "execution_count": 8
        }
      ]
    },
    {
      "cell_type": "code",
      "source": [
        "import nltk.data\n",
        "\n",
        "tokenizer = nltk.data.load('tokenizers/punkt/spanish.pickle')\n",
        "text='Los párrafos son los componentes básicos de los artículos. Muchos estudiantes definen los párrafos en términos de extensión: un párrafo es un grupo de al menos cinco oraciones, un párrafo tiene media página, etc. Sin embargo, en realidad, la unidad y coherencia de ideas entre oraciones es lo que constituye un párrafo.'\n",
        "tokenizer.tokenize(text)"
      ],
      "metadata": {
        "colab": {
          "base_uri": "https://localhost:8080/"
        },
        "id": "7JIK6APzID1H",
        "outputId": "d4069a9c-7be6-440d-cae5-93413a90d076"
      },
      "execution_count": null,
      "outputs": [
        {
          "output_type": "execute_result",
          "data": {
            "text/plain": [
              "['Los párrafos son los componentes básicos de los artículos.',\n",
              " 'Muchos estudiantes definen los párrafos en términos de extensión: un párrafo es un grupo de al menos cinco oraciones, un párrafo tiene media página, etc.',\n",
              " 'Sin embargo, en realidad, la unidad y coherencia de ideas entre oraciones es lo que constituye un párrafo.']"
            ]
          },
          "metadata": {},
          "execution_count": 9
        }
      ]
    },
    {
      "cell_type": "code",
      "source": [
        "from nltk.tokenize import word_tokenize\n",
        "\n",
        "text='NLP is a very important tool for sentiment analysis'\n",
        "word_tokenize(text)"
      ],
      "metadata": {
        "colab": {
          "base_uri": "https://localhost:8080/"
        },
        "id": "Gaj9oD0fIxCH",
        "outputId": "a7c5ff8a-bbc8-426b-9358-88f5c21d12b3"
      },
      "execution_count": null,
      "outputs": [
        {
          "output_type": "execute_result",
          "data": {
            "text/plain": [
              "['NLP', 'is', 'a', 'very', 'important', 'tool', 'for', 'sentiment', 'analysis']"
            ]
          },
          "metadata": {},
          "execution_count": 10
        }
      ]
    }
  ]
}