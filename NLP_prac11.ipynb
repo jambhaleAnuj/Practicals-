{
  "nbformat": 4,
  "nbformat_minor": 0,
  "metadata": {
    "colab": {
      "provenance": []
    },
    "kernelspec": {
      "name": "python3",
      "display_name": "Python 3"
    },
    "language_info": {
      "name": "python"
    }
  },
  "cells": [
    {
      "cell_type": "code",
      "source": [
        "import nltk\n",
        "from nltk.sentiment.vader import SentimentIntensityAnalyzer\n",
        "from textblob import TextBlob\n",
        "from collections import Counter\n",
        "\n",
        "nltk.download('vader_lexicon')"
      ],
      "metadata": {
        "id": "Jj3NRx7vXscb"
      },
      "execution_count": null,
      "outputs": []
    },
    {
      "cell_type": "code",
      "source": [
        "\n",
        "\n",
        "# Sample online reviews for testing\n",
        "reviews = [\n",
        "    \"I absolutely love this product! It works like a charm and exceeded my expectations.\",\n",
        "    \"This is the worst purchase I've made. The product broke down in a day!\",\n",
        "    \"The service was okay, but the delivery was too slow.\",\n",
        "    \"Highly recommend! Excellent customer support and fast shipping.\",\n",
        "    \"Not worth the money. Very disappointed with the quality.\"\n",
        "]\n",
        "\n",
        "# 1. Lexicon-based approach using VADER SentimentIntensityAnalyzer\n",
        "def sentiment_analysis_vader(review):\n",
        "    sid = SentimentIntensityAnalyzer()\n",
        "    sentiment_score = sid.polarity_scores(review)\n",
        "    return sentiment_score\n",
        "\n",
        "# 2. Rule-based approach using TextBlob\n",
        "def sentiment_analysis_textblob(review):\n",
        "    blob = TextBlob(review)\n",
        "    return blob.sentiment.polarity  # returns a value between -1 (negative) and 1 (positive)\n",
        "\n",
        "# 3. Emotion Mining: We define some basic emotions with corresponding keywords\n",
        "emotion_keywords = {\n",
        "    'happy': ['love', 'great', 'excellent', 'awesome', 'joy', 'happy', 'amazing'],\n",
        "    'anger': ['worst', 'disappointed', 'broke', 'angry', 'hate', 'terrible'],\n",
        "    'sad': ['sad', 'poor', 'bad', 'not good', 'upset', 'depressed'],\n",
        "    'surprise': ['surprise', 'shocked', 'unexpected', 'astonishing'],\n",
        "}\n",
        "\n",
        "def emotion_mining(review):\n",
        "    emotions_detected = []\n",
        "    review_words = review.lower().split()\n",
        "    for emotion, keywords in emotion_keywords.items():\n",
        "        if any(keyword in review_words for keyword in keywords):\n",
        "            emotions_detected.append(emotion)\n",
        "    return emotions_detected\n",
        "\n",
        "\n",
        "for review in reviews:\n",
        "    print(f\"Review: {review}\")\n",
        "\n",
        "    # Lexicon-based sentiment analysis (VADER)\n",
        "    vader_score = sentiment_analysis_vader(review)\n",
        "    print(f\"VADER Sentiment Score: {vader_score}\")\n",
        "\n",
        "    # Rule-based sentiment analysis (TextBlob)\n",
        "    textblob_score = sentiment_analysis_textblob(review)\n",
        "    sentiment_label = \"Positive\" if textblob_score > 0 else \"Negative\" if textblob_score < 0 else \"Neutral\"\n",
        "    print(f\"TextBlob Sentiment (Polarity): {textblob_score} -> {sentiment_label}\")\n",
        "\n",
        "    # Emotion mining\n",
        "    emotions = emotion_mining(review)\n",
        "    print(f\"Detected Emotions: {', '.join(emotions) if emotions else 'None'}\\n\")\n"
      ],
      "metadata": {
        "colab": {
          "base_uri": "https://localhost:8080/"
        },
        "id": "r0MESPNtBuGr",
        "outputId": "b3f09545-12c6-4e00-98e8-3aacc70a9401"
      },
      "execution_count": 2,
      "outputs": [
        {
          "output_type": "stream",
          "name": "stdout",
          "text": [
            "Review: I absolutely love this product! It works like a charm and exceeded my expectations.\n",
            "VADER Sentiment Score: {'neg': 0.0, 'neu': 0.474, 'pos': 0.526, 'compound': 0.8746}\n",
            "TextBlob Sentiment (Polarity): 0.625 -> Positive\n",
            "Detected Emotions: happy\n",
            "\n",
            "Review: This is the worst purchase I've made. The product broke down in a day!\n",
            "VADER Sentiment Score: {'neg': 0.395, 'neu': 0.605, 'pos': 0.0, 'compound': -0.8016}\n",
            "TextBlob Sentiment (Polarity): -0.5972222222222222 -> Negative\n",
            "Detected Emotions: anger\n",
            "\n",
            "Review: The service was okay, but the delivery was too slow.\n",
            "VADER Sentiment Score: {'neg': 0.0, 'neu': 0.861, 'pos': 0.139, 'compound': 0.1154}\n",
            "TextBlob Sentiment (Polarity): 0.09999999999999998 -> Positive\n",
            "Detected Emotions: None\n",
            "\n",
            "Review: Highly recommend! Excellent customer support and fast shipping.\n",
            "VADER Sentiment Score: {'neg': 0.0, 'neu': 0.339, 'pos': 0.661, 'compound': 0.8678}\n",
            "TextBlob Sentiment (Polarity): 0.4666666666666666 -> Positive\n",
            "Detected Emotions: happy\n",
            "\n",
            "Review: Not worth the money. Very disappointed with the quality.\n",
            "VADER Sentiment Score: {'neg': 0.42, 'neu': 0.58, 'pos': 0.0, 'compound': -0.6198}\n",
            "TextBlob Sentiment (Polarity): -0.5625 -> Negative\n",
            "Detected Emotions: anger\n",
            "\n"
          ]
        }
      ]
    },
    {
      "cell_type": "code",
      "source": [],
      "metadata": {
        "id": "V3q9Ol6IB0ZB"
      },
      "execution_count": null,
      "outputs": []
    }
  ]
}