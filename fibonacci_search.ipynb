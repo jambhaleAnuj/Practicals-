{
 "cells": [
  {
   "cell_type": "code",
   "execution_count": 4,
   "id": "328c00ab",
   "metadata": {},
   "outputs": [
    {
     "data": {
      "text/plain": [
       "φ = 1.6180339887498..."
      ]
     },
     "execution_count": 4,
     "metadata": {},
     "output_type": "execute_result"
    }
   ],
   "source": [
    "φ = MathConstants.φ"
   ]
  },
  {
   "cell_type": "code",
   "execution_count": 5,
   "id": "357c8998",
   "metadata": {},
   "outputs": [
    {
     "data": {
      "text/plain": [
       "fibonacci_search (generic function with 2 methods)"
      ]
     },
     "execution_count": 5,
     "metadata": {},
     "output_type": "execute_result"
    }
   ],
   "source": [
    "function fibonacci_search(g, a, b, n, ϵ=0.01)\n",
    "    s = (1-√5)/(1+√5)\n",
    "    ρ = 1 / (φ*(1-s^(n+1))/(1-s^n))\n",
    "    d = ρ*b + (1-ρ)*a\n",
    "    yd = g(d)\n",
    "    for i in 1 : n-1\n",
    "        if i == n-1\n",
    "            c = ϵ*a + (1-ϵ)*d\n",
    "        else\n",
    "            c = ρ*a + (1-ρ)*b\n",
    "        end\n",
    "        yc = g(c)\n",
    "        if yc < yd\n",
    "            b, d, yd = d, c, yc\n",
    "        else\n",
    "            a, b = b, c\n",
    "        end\n",
    "        ρ = 1 / (φ*(1-s^(n-i+1))/(1-s^(n-i)))\n",
    "    end\n",
    "    return a < b ? (a, b) : (b, a)\n",
    "end"
   ]
  },
  {
   "cell_type": "code",
   "execution_count": 6,
   "id": "9e9dd8dc",
   "metadata": {},
   "outputs": [
    {
     "data": {
      "text/plain": [
       "#5 (generic function with 1 method)"
      ]
     },
     "execution_count": 6,
     "metadata": {},
     "output_type": "execute_result"
    }
   ],
   "source": [
    "g=x->x^2\n"
   ]
  },
  {
   "cell_type": "code",
   "execution_count": 7,
   "id": "c6b4b22c",
   "metadata": {},
   "outputs": [
    {
     "data": {
      "text/plain": [
       "(-0.011235955056179792, 0.011235955056179796)"
      ]
     },
     "execution_count": 7,
     "metadata": {},
     "output_type": "execute_result"
    }
   ],
   "source": [
    "fibonacci_search(g,-1,1,10)\n"
   ]
  },
  {
   "cell_type": "code",
   "execution_count": null,
   "id": "29141290",
   "metadata": {},
   "outputs": [],
   "source": []
  }
 ],
 "metadata": {
  "kernelspec": {
   "display_name": "Julia 1.9.3",
   "language": "julia",
   "name": "julia-1.9"
  },
  "language_info": {
   "file_extension": ".jl",
   "mimetype": "application/julia",
   "name": "julia",
   "version": "1.9.3"
  }
 },
 "nbformat": 4,
 "nbformat_minor": 5
}
