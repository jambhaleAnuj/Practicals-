{
  "nbformat": 4,
  "nbformat_minor": 0,
  "metadata": {
    "colab": {
      "provenance": []
    },
    "kernelspec": {
      "name": "python3",
      "display_name": "Python 3"
    },
    "language_info": {
      "name": "python"
    }
  },
  "cells": [
    {
      "cell_type": "code",
      "execution_count": null,
      "metadata": {
        "colab": {
          "base_uri": "https://localhost:8080/"
        },
        "id": "spDNvZ9Jxbpm",
        "outputId": "abfab01a-7f11-486f-8b92-8fc0aeef0f76"
      },
      "outputs": [
        {
          "output_type": "stream",
          "name": "stdout",
          "text": [
            "wait\n",
            "wait\n",
            "wait\n",
            "wait\n"
          ]
        }
      ],
      "source": [
        "from nltk.stem import PorterStemmer\n",
        "e_words=[\"wait\",\"waiting\",\"waited\",\"waits\"]\n",
        "ps=PorterStemmer()\n",
        "for w in e_words:\n",
        "  rootWord=ps.stem(w)\n",
        "  print (rootWord)"
      ]
    },
    {
      "cell_type": "code",
      "source": [
        "from nltk.stem import PorterStemmer\n",
        "e_words=[\"study\", \"studying\", \"studied\", \"studies\"]\n",
        "ps=PorterStemmer()\n",
        "for w in e_words:\n",
        "  rootWord=ps.stem(w)\n",
        "  print(rootWord)"
      ],
      "metadata": {
        "colab": {
          "base_uri": "https://localhost:8080/"
        },
        "id": "IKTo_bcgyER9",
        "outputId": "2dae24be-4d04-4c23-a11b-8cb1b8a87711"
      },
      "execution_count": null,
      "outputs": [
        {
          "output_type": "stream",
          "name": "stdout",
          "text": [
            "studi\n",
            "studi\n",
            "studi\n",
            "studi\n"
          ]
        }
      ]
    },
    {
      "cell_type": "code",
      "source": [
        "import nltk\n",
        "nltk.download('punkt')\n",
        "nltk.download('punkt_tab')\n"
      ],
      "metadata": {
        "colab": {
          "base_uri": "https://localhost:8080/"
        },
        "id": "SjM6kQCIyHu9",
        "outputId": "7ff6167f-7506-4cbe-8160-e011ff08004c"
      },
      "execution_count": null,
      "outputs": [
        {
          "output_type": "stream",
          "name": "stderr",
          "text": [
            "[nltk_data] Downloading package punkt to /root/nltk_data...\n",
            "[nltk_data]   Package punkt is already up-to-date!\n",
            "[nltk_data] Downloading package punkt_tab to /root/nltk_data...\n",
            "[nltk_data]   Unzipping tokenizers/punkt_tab.zip.\n"
          ]
        },
        {
          "output_type": "execute_result",
          "data": {
            "text/plain": [
              "True"
            ]
          },
          "metadata": {},
          "execution_count": 5
        }
      ]
    },
    {
      "cell_type": "code",
      "source": [
        "text=\"if studies studying are studied study\"\n",
        "tokenization=nltk.word_tokenize(text)\n",
        "for w in tokenization:\n",
        "  print(\"Stemming for {} is {}\".format(w,ps.stem(w)))"
      ],
      "metadata": {
        "colab": {
          "base_uri": "https://localhost:8080/"
        },
        "id": "BfineHC_yJZx",
        "outputId": "a5fd45dd-2a28-4726-b7bd-133b5e7549f6"
      },
      "execution_count": null,
      "outputs": [
        {
          "output_type": "stream",
          "name": "stdout",
          "text": [
            "Stemming for if is if\n",
            "Stemming for studies is studi\n",
            "Stemming for studying is studi\n",
            "Stemming for are is are\n",
            "Stemming for studied is studi\n",
            "Stemming for study is studi\n"
          ]
        }
      ]
    },
    {
      "cell_type": "code",
      "source": [],
      "metadata": {
        "id": "3yWPFvprySlz"
      },
      "execution_count": null,
      "outputs": []
    }
  ]
}