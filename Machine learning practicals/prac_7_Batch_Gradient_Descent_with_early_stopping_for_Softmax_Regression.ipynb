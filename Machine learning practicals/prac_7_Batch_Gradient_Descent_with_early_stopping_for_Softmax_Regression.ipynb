{
  "nbformat": 4,
  "nbformat_minor": 0,
  "metadata": {
    "colab": {
      "provenance": []
    },
    "kernelspec": {
      "name": "python3",
      "display_name": "Python 3"
    },
    "language_info": {
      "name": "python"
    }
  },
  "cells": [
    {
      "cell_type": "code",
      "execution_count": null,
      "metadata": {
        "id": "Zk-vGDarViRd"
      },
      "outputs": [],
      "source": [
        "import numpy as np\n",
        "import scipy as sp\n",
        "import matplotlib.pyplot as plt\n",
        "\n",
        "from sklearn.datasets import load_iris"
      ]
    },
    {
      "cell_type": "code",
      "source": [
        "iris = load_iris()\n",
        "x = iris['data']\n",
        "y = iris['target']"
      ],
      "metadata": {
        "id": "YPT5kxUOWMGN"
      },
      "execution_count": null,
      "outputs": []
    },
    {
      "cell_type": "code",
      "source": [
        "x_with_bias = np.c_[np.ones([len(x), 1]),x]\n",
        "np.random.seed(1234)\n",
        "\n",
        "test_ratio = 0.2\n",
        "validation_ratio = 0.2\n",
        "total_size = len(x_with_bias)\n",
        "\n",
        "test_size  =int(total_size* test_ratio)\n",
        "validation_size = int(total_size * validation_ratio)\n",
        "train_size = total_size - test_size - validation_size\n",
        "\n",
        "rnd_indices = np.random.permutation(total_size)\n",
        "\n",
        "x_train = x_with_bias[rnd_indices[:test_size]]\n",
        "y_train = y[rnd_indices[:train_size]]\n",
        "x_valid = x_with_bias[rnd_indices[train_size:-test_size]]\n",
        "y_valid = y[rnd_indices[train_size:-test_size]]\n",
        "x_test =  x_with_bias[rnd_indices[-test_size:]]\n",
        "y_test =  y[rnd_indices[-test_size:]]\n"
      ],
      "metadata": {
        "id": "Ei6AFtu8WYJW"
      },
      "execution_count": null,
      "outputs": []
    },
    {
      "cell_type": "code",
      "source": [
        "def one_hot(y):\n",
        "  nclasses = y.max() + 1\n",
        "  m = len(y)\n",
        "  y_one_hot = np.zeros((m,nclasses))\n",
        "  y_one_hot[np.arange(m),y] =1\n",
        "  return y_one_hot"
      ],
      "metadata": {
        "id": "SPE1SkZxXaqD"
      },
      "execution_count": null,
      "outputs": []
    },
    {
      "cell_type": "code",
      "source": [
        "y_valid[:10]"
      ],
      "metadata": {
        "colab": {
          "base_uri": "https://localhost:8080/"
        },
        "id": "JXfLuMepXxK2",
        "outputId": "b992fd27-579d-4683-9077-2920947b0aaa"
      },
      "execution_count": null,
      "outputs": [
        {
          "output_type": "execute_result",
          "data": {
            "text/plain": [
              "array([1, 0, 1, 2, 1, 1, 1, 0, 0, 0])"
            ]
          },
          "metadata": {},
          "execution_count": 7
        }
      ]
    },
    {
      "cell_type": "code",
      "source": [
        "one_hot(y_valid[:10])"
      ],
      "metadata": {
        "colab": {
          "base_uri": "https://localhost:8080/"
        },
        "id": "hnGRcuDxXyzT",
        "outputId": "d4a2f739-c682-45d8-8e23-c250e3d0e706"
      },
      "execution_count": null,
      "outputs": [
        {
          "output_type": "execute_result",
          "data": {
            "text/plain": [
              "array([[0., 1., 0.],\n",
              "       [1., 0., 0.],\n",
              "       [0., 1., 0.],\n",
              "       [0., 0., 1.],\n",
              "       [0., 1., 0.],\n",
              "       [0., 1., 0.],\n",
              "       [0., 1., 0.],\n",
              "       [1., 0., 0.],\n",
              "       [1., 0., 0.],\n",
              "       [1., 0., 0.]])"
            ]
          },
          "metadata": {},
          "execution_count": 8
        }
      ]
    },
    {
      "cell_type": "code",
      "source": [
        "y_train_prob = one_hot(y_train)\n",
        "y_valid_prob = one_hot(y_valid)\n",
        "y_test_prob = one_hot(y_test)"
      ],
      "metadata": {
        "id": "v83orL-7X1dk"
      },
      "execution_count": null,
      "outputs": []
    },
    {
      "cell_type": "code",
      "source": [
        "def softmax(sk_x):\n",
        "  top = np.exp(sk_x)\n",
        "  bottom = np.sum(top,axis=1,keepdim=True)\n",
        "  return top/bottom"
      ],
      "metadata": {
        "id": "BfA8D-mzYC7j"
      },
      "execution_count": null,
      "outputs": []
    },
    {
      "cell_type": "code",
      "source": [
        "n_inputs = x_train.shape[1]\n",
        "n_outputs = len(np.unique(y_train))"
      ],
      "metadata": {
        "id": "Nl2ZLFELYNvS"
      },
      "execution_count": null,
      "outputs": []
    },
    {
      "cell_type": "code",
      "source": [
        "print(n_inputs,n_outputs)"
      ],
      "metadata": {
        "colab": {
          "base_uri": "https://localhost:8080/"
        },
        "id": "PIzG3AjAkbes",
        "outputId": "f4689a8e-745c-4657-b497-e80c2ff5d567"
      },
      "execution_count": null,
      "outputs": [
        {
          "output_type": "stream",
          "name": "stdout",
          "text": [
            "5 3\n"
          ]
        }
      ]
    },
    {
      "cell_type": "code",
      "source": [],
      "metadata": {
        "id": "cPow8kR0kd2U"
      },
      "execution_count": null,
      "outputs": []
    }
  ]
}