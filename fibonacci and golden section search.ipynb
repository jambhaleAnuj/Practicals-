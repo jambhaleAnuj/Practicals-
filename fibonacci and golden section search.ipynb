{
 "cells": [
  {
   "cell_type": "code",
   "execution_count": 1,
   "id": "5a9aaf1b",
   "metadata": {},
   "outputs": [
    {
     "data": {
      "text/plain": [
       "φ = 1.6180339887498..."
      ]
     },
     "execution_count": 1,
     "metadata": {},
     "output_type": "execute_result"
    }
   ],
   "source": [
    "φ = MathConstants.φ"
   ]
  },
  {
   "cell_type": "code",
   "execution_count": 2,
   "id": "3d77eb4a",
   "metadata": {},
   "outputs": [
    {
     "data": {
      "text/plain": [
       "#3 (generic function with 1 method)"
      ]
     },
     "execution_count": 2,
     "metadata": {},
     "output_type": "execute_result"
    }
   ],
   "source": [
    "g=x->x^2"
   ]
  },
  {
   "cell_type": "code",
   "execution_count": 3,
   "id": "a89e3362",
   "metadata": {},
   "outputs": [
    {
     "data": {
      "text/plain": [
       "fibonacci_search (generic function with 2 methods)"
      ]
     },
     "execution_count": 3,
     "metadata": {},
     "output_type": "execute_result"
    }
   ],
   "source": [
    "function fibonacci_search(g, a, b, n, ϵ=0.01)\n",
    "    s = (1-√5)/(1+√5)\n",
    "    ρ = 1 / (φ*(1-s^(n+1))/(1-s^n))\n",
    "    d = ρ*b + (1-ρ)*a\n",
    "    yd = g(d)\n",
    "    for i in 1 : n-1\n",
    "        if i == n-1\n",
    "            c = ϵ*a + (1-ϵ)*d\n",
    "        else\n",
    "            c = ρ*a + (1-ρ)*b\n",
    "        end\n",
    "        yc = g(c)\n",
    "        if yc < yd\n",
    "            b, d, yd = d, c, yc\n",
    "        else\n",
    "            a, b = b, c\n",
    "        end\n",
    "        ρ = 1 / (φ*(1-s^(n-i+1))/(1-s^(n-i)))\n",
    "    end\n",
    "    return a < b ? (a, b) : (b, a)\n",
    "end"
   ]
  },
  {
   "cell_type": "code",
   "execution_count": 4,
   "id": "0c84d3b5",
   "metadata": {},
   "outputs": [
    {
     "data": {
      "text/plain": [
       "(-0.011235955056179792, 0.011235955056179796)"
      ]
     },
     "execution_count": 4,
     "metadata": {},
     "output_type": "execute_result"
    }
   ],
   "source": [
    "fibonacci_search(g,-1,1,10)"
   ]
  },
  {
   "cell_type": "code",
   "execution_count": 5,
   "id": "a0246a9c",
   "metadata": {},
   "outputs": [
    {
     "data": {
      "text/plain": [
       "golden_section_search (generic function with 1 method)"
      ]
     },
     "execution_count": 5,
     "metadata": {},
     "output_type": "execute_result"
    }
   ],
   "source": [
    "function golden_section_search(f, a, b, n)\n",
    "    ρ = φ-1\n",
    "    d = ρ * b + (1 - ρ)*a\n",
    "    fd = f(d)\n",
    "    for i = 1 : n-1\n",
    "        c = ρ*a + (1 - ρ)*b\n",
    "        fc = f(c)\n",
    "        if fc < fd\n",
    "            b, d, fd = d, c, fc\n",
    "        else\n",
    "            a, b, fb = b, c, fc\n",
    "        end\n",
    "    end\n",
    "    return a < b ? (a, b) : (b, a)\n",
    "end"
   ]
  },
  {
   "cell_type": "code",
   "execution_count": 6,
   "id": "6912130d",
   "metadata": {},
   "outputs": [
    {
     "data": {
      "text/plain": [
       "(-0.01315561749642492, 0.013155617496424812)"
      ]
     },
     "execution_count": 6,
     "metadata": {},
     "output_type": "execute_result"
    }
   ],
   "source": [
    "golden_section_search(g,-1,1,10)"
   ]
  },
  {
   "cell_type": "code",
   "execution_count": null,
   "id": "01cb85c0",
   "metadata": {},
   "outputs": [],
   "source": []
  }
 ],
 "metadata": {
  "kernelspec": {
   "display_name": "Julia 1.9.3",
   "language": "julia",
   "name": "julia-1.9"
  },
  "language_info": {
   "file_extension": ".jl",
   "mimetype": "application/julia",
   "name": "julia",
   "version": "1.9.3"
  }
 },
 "nbformat": 4,
 "nbformat_minor": 5
}
