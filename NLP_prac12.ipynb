{
  "nbformat": 4,
  "nbformat_minor": 0,
  "metadata": {
    "colab": {
      "provenance": []
    },
    "kernelspec": {
      "name": "python3",
      "display_name": "Python 3"
    },
    "language_info": {
      "name": "python"
    }
  },
  "cells": [
    {
      "cell_type": "code",
      "source": [
        "import nltk\n",
        "import pandas as pd\n",
        "import numpy as np\n",
        "from sklearn.feature_extraction.text import TfidfVectorizer\n",
        "from sklearn.model_selection import train_test_split\n",
        "from sklearn.naive_bayes import MultinomialNB\n",
        "from sklearn.metrics import accuracy_score, confusion_matrix, classification_report\n",
        "from nltk.corpus import stopwords\n",
        "from nltk.tokenize import word_tokenize\n",
        "\n",
        "# Download necessary NLTK resources\n",
        "nltk.download('punkt')\n",
        "nltk.download('punkt_tab')\n",
        "\n",
        "nltk.download('stopwords')"
      ],
      "metadata": {
        "id": "-O8xV5tDCpch",
        "colab": {
          "base_uri": "https://localhost:8080/"
        },
        "outputId": "6abe8b62-ff53-4561-b940-787c2a8fba3f"
      },
      "execution_count": 6,
      "outputs": [
        {
          "output_type": "stream",
          "name": "stderr",
          "text": [
            "[nltk_data] Downloading package punkt to /root/nltk_data...\n",
            "[nltk_data]   Package punkt is already up-to-date!\n",
            "[nltk_data] Downloading package punkt_tab to /root/nltk_data...\n",
            "[nltk_data]   Package punkt_tab is already up-to-date!\n",
            "[nltk_data] Downloading package stopwords to /root/nltk_data...\n",
            "[nltk_data]   Package stopwords is already up-to-date!\n"
          ]
        },
        {
          "output_type": "execute_result",
          "data": {
            "text/plain": [
              "True"
            ]
          },
          "metadata": {},
          "execution_count": 6
        }
      ]
    },
    {
      "cell_type": "code",
      "source": [
        "\n",
        "\n",
        "# Example SMS dataset (you will replace this with your own dataset)\n",
        "data = [\n",
        "    {\"sms\": \"Your account has been blocked. Call us immediately.\", \"label\": \"fraud\"},\n",
        "    {\"sms\": \"Congratulations! You have won a lottery. Click here to claim.\", \"label\": \"fraud\"},\n",
        "    {\"sms\": \"Hello, your monthly statement is ready for viewing.\", \"label\": \"non-fraud\"},\n",
        "    {\"sms\": \"Security alert: Your account was accessed from an unrecognized device.\", \"label\": \"fraud\"},\n",
        "    {\"sms\": \"Your credit card bill is due in 5 days. Please make the payment.\", \"label\": \"non-fraud\"},\n",
        "    {\"sms\": \"Suspicious activity detected on your account. Please confirm if it was you.\", \"label\": \"fraud\"},\n",
        "    {\"sms\": \"Your insurance premium has been successfully paid.\", \"label\": \"non-fraud\"},\n",
        "    {\"sms\": \"Immediate action required: Your account has been compromised.\", \"label\": \"fraud\"},\n",
        "]\n",
        "\n",
        "# Convert data to DataFrame\n",
        "df = pd.DataFrame(data)\n",
        "\n",
        "# Preprocessing: Tokenization and stopwords removal\n",
        "stop_words = set(stopwords.words('english'))\n",
        "\n",
        "def preprocess_sms(sms):\n",
        "    # Tokenize the SMS\n",
        "    tokens = word_tokenize(sms.lower())\n",
        "    # Remove stopwords\n",
        "    filtered_tokens = [word for word in tokens if word not in stop_words and word.isalpha()]\n",
        "    return ' '.join(filtered_tokens)\n",
        "\n",
        "# Apply preprocessing\n",
        "df['sms'] = df['sms'].apply(preprocess_sms)\n",
        "\n",
        "# Feature Extraction: TF-IDF Vectorizer\n",
        "vectorizer = TfidfVectorizer()\n",
        "X = vectorizer.fit_transform(df['sms'])\n",
        "\n",
        "# Labels: Fraud or Non-Fraud\n",
        "y = df['label']\n",
        "\n",
        "# Train-Test Split\n",
        "X_train, X_test, y_train, y_test = train_test_split(X, y, test_size=0.3, random_state=42)\n",
        "\n",
        "# Model: Naive Bayes Classifier\n",
        "model = MultinomialNB()\n",
        "model.fit(X_train, y_train)\n",
        "\n",
        "# Predictions\n",
        "y_pred = model.predict(X_test)\n",
        "\n",
        "\n",
        "\n",
        "# Function to Detect Fraud in New SMS\n",
        "def detect_fraud(new_sms):\n",
        "    new_sms_processed = preprocess_sms(new_sms)\n",
        "    new_sms_vectorized = vectorizer.transform([new_sms_processed])\n",
        "    prediction = model.predict(new_sms_vectorized)\n",
        "    return prediction[0]\n",
        "\n",
        "# Example usage:\n",
        "test_sms = \"Your bank account has been compromised. Call this number immediately.\"\n",
        "# test_sms = \"Your Insurance premium has been successfully paid.\"\n",
        "\n",
        "print(\"Fraud Prediction:\", detect_fraud(test_sms))  # It should return 'fraud' if it's a fraud message\n"
      ],
      "metadata": {
        "colab": {
          "base_uri": "https://localhost:8080/"
        },
        "id": "6zt3CHa3CU1h",
        "outputId": "5d8c3f0d-443f-439e-bd19-e10c43408336"
      },
      "execution_count": 7,
      "outputs": [
        {
          "output_type": "stream",
          "name": "stdout",
          "text": [
            "Fraud Prediction: fraud\n"
          ]
        }
      ]
    },
    {
      "cell_type": "code",
      "source": [],
      "metadata": {
        "id": "WZjt_Uj5Cd7R"
      },
      "execution_count": null,
      "outputs": []
    }
  ]
}