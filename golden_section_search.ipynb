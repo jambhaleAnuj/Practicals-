{
 "cells": [
  {
   "cell_type": "code",
   "execution_count": 1,
   "id": "16aa7afd",
   "metadata": {},
   "outputs": [
    {
     "data": {
      "text/plain": [
       "φ = 1.6180339887498..."
      ]
     },
     "execution_count": 1,
     "metadata": {},
     "output_type": "execute_result"
    }
   ],
   "source": [
    "φ = MathConstants.φ\n"
   ]
  },
  {
   "cell_type": "code",
   "execution_count": 2,
   "id": "8d6c18ab",
   "metadata": {},
   "outputs": [
    {
     "data": {
      "text/plain": [
       "#3 (generic function with 1 method)"
      ]
     },
     "execution_count": 2,
     "metadata": {},
     "output_type": "execute_result"
    }
   ],
   "source": [
    "g=x->x^2"
   ]
  },
  {
   "cell_type": "code",
   "execution_count": 3,
   "id": "1d4dffe2",
   "metadata": {},
   "outputs": [
    {
     "data": {
      "text/plain": [
       "#5 (generic function with 1 method)"
      ]
     },
     "execution_count": 3,
     "metadata": {},
     "output_type": "execute_result"
    }
   ],
   "source": [
    "h=x->((x^2)+(2*x)+5)\n"
   ]
  },
  {
   "cell_type": "code",
   "execution_count": 4,
   "id": "78576e56",
   "metadata": {},
   "outputs": [
    {
     "data": {
      "text/plain": [
       "golden_section_search (generic function with 1 method)"
      ]
     },
     "execution_count": 4,
     "metadata": {},
     "output_type": "execute_result"
    }
   ],
   "source": [
    "function golden_section_search(f, a, b, n)\n",
    "    ρ = φ-1\n",
    "    d = ρ * b + (1 - ρ)*a\n",
    "    fd = f(d)\n",
    "    for i = 1 : n-1\n",
    "        c = ρ*a + (1 - ρ)*b\n",
    "        fc = f(c)\n",
    "        if fc < fd\n",
    "            b, d, fd = d, c, fc\n",
    "        else\n",
    "            a, b, fb = b, c, fc\n",
    "        end\n",
    "    end\n",
    "    return a < b ? (a, b) : (b, a)\n",
    "end"
   ]
  },
  {
   "cell_type": "code",
   "execution_count": 5,
   "id": "22559354",
   "metadata": {},
   "outputs": [
    {
     "data": {
      "text/plain": [
       "(-0.01315561749642492, 0.013155617496424812)"
      ]
     },
     "execution_count": 5,
     "metadata": {},
     "output_type": "execute_result"
    }
   ],
   "source": [
    "golden_section_search(g,-1,1,10)"
   ]
  },
  {
   "cell_type": "code",
   "execution_count": null,
   "id": "54f7ea89",
   "metadata": {},
   "outputs": [],
   "source": []
  }
 ],
 "metadata": {
  "kernelspec": {
   "display_name": "Julia 1.9.3",
   "language": "julia",
   "name": "julia-1.9"
  },
  "language_info": {
   "file_extension": ".jl",
   "mimetype": "application/julia",
   "name": "julia",
   "version": "1.9.3"
  }
 },
 "nbformat": 4,
 "nbformat_minor": 5
}
